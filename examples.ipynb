{
 "cells": [
  {
   "cell_type": "code",
   "execution_count": 46,
   "metadata": {},
   "outputs": [],
   "source": [
    "import urllib.parse"
   ]
  },
  {
   "cell_type": "code",
   "execution_count": 47,
   "metadata": {},
   "outputs": [],
   "source": [
    "import json\n",
    "import os\n",
    "from pathlib import Path\n",
    "from os import path\n",
    "\n",
    "cwd = Path().absolute()"
   ]
  },
  {
   "cell_type": "code",
   "execution_count": 48,
   "metadata": {},
   "outputs": [],
   "source": [
    "example_dir = cwd.joinpath(\"libpysal\",'examples')\n",
    "EXAMPLE_DIR = example_dir"
   ]
  },
  {
   "cell_type": "markdown",
   "metadata": {},
   "source": [
    "## Examples\n",
    "\n",
    "The source distribution of libpysal contains a number of official examples that can be used to illustrate\n",
    "functionality.\n",
    "\n",
    "### Requirements\n",
    "\n",
    "Each official example requires two things:\n",
    "\n",
    "- Entry in `examples.json`\n",
    "- a directory in `libpysal/examples/dirname` where `dirname` is the name of the example.\n",
    "\n",
    "In the source distribution we will have a directory for every official example. Examples are either\n",
    "local or remote. For local examples, their directories contain:\n",
    "\n",
    "- README.md\n",
    "- all data files\n",
    "\n",
    "For remote examples, the source directory contains only:\n",
    "\n",
    "- README.md\n",
    "\n",
    "### Example entries in `example.json`\n",
    "\n",
    "### README.md for examples\n",
    "\n",
    "The README.md file has to follow a common structure so that meta data can be generated to provide users with information about the example, as well as an inventory of the files that are available for use.\n",
    "\n",
    "### Remote examples\n",
    "\n",
    "These are examples that are large, and therefore, the data files are not included in the source distribution. Instead meta data is provided that allows for the downloading of the data files for the example, as well as information about the example for discovery.\n",
    "\n",
    "Remote examples will be downloaded into a default folder `~/PYSALDATA/dirname`. The location of this folder can be changed using the environment variable `PYSALDATA`.\n",
    "\n",
    "## example userland functions\n",
    "\n",
    "`available` will list the names and brief descriptions of the official examples, distinguishing between those examples that have been installed (local source and downloaded remote examples) as well as those that would have to be downloaded before using.\n",
    "\n",
    "`explain` will provide the detail listing about a particular example.\n",
    "\n",
    "\n",
    "\n"
   ]
  },
  {
   "cell_type": "code",
   "execution_count": 71,
   "metadata": {},
   "outputs": [],
   "source": [
    "class Example:\n",
    "    def __init__(self, name, info):\n",
    "        self.name = name\n",
    "        self.remote = False\n",
    "        if 'url' in info:\n",
    "            self.remote = True\n",
    "            print('TODO: check if downloaded already')\n",
    "        self.dir = info['dir']\n",
    "        self.readme()\n",
    "    def readme(self):\n",
    "        print('TODO: readme')\n",
    "        pth = EXAMPLE_DIR.joinpath(self.dir, 'README.md')\n",
    "        print(pth)\n",
    "        if path.exists(pth):\n",
    "            with open(pth, 'r') as readme:\n",
    "                contents = readme.read()\n",
    "                self.contents = contents\n",
    "                try:\n",
    "                    fid = contents.index(\"## Files\")\n",
    "                    rid = contents.index(\"## Reference\")\n",
    "                    file_contents = contents[fid+9:rid-1]\n",
    "                    self.file_contents = file_contents\n",
    "                except:\n",
    "                    print('README.md is broken: ', pth)\n",
    "                \n",
    "        else:\n",
    "            print('Example missing README.md: ', self.name)\n",
    "        "
   ]
  },
  {
   "cell_type": "markdown",
   "metadata": {},
   "source": [
    "# read examples"
   ]
  },
  {
   "cell_type": "code",
   "execution_count": 72,
   "metadata": {},
   "outputs": [],
   "source": [
    "with open('libpysal/examples/examples.json', 'r') as efile:\n",
    "    examples  = json.load(efile)"
   ]
  },
  {
   "cell_type": "code",
   "execution_count": 73,
   "metadata": {},
   "outputs": [
    {
     "data": {
      "text/plain": [
       "dict_keys(['nat', 'south', 'rio', 'mexico', 'baltimore'])"
      ]
     },
     "execution_count": 73,
     "metadata": {},
     "output_type": "execute_result"
    }
   ],
   "source": [
    "examples.keys()"
   ]
  },
  {
   "cell_type": "markdown",
   "metadata": {},
   "source": [
    "## process examples"
   ]
  },
  {
   "cell_type": "code",
   "execution_count": 74,
   "metadata": {},
   "outputs": [
    {
     "name": "stdout",
     "output_type": "stream",
     "text": [
      "TODO: check if downloaded already\n",
      "TODO: readme\n",
      "/home/jovyan/libpysal/examples/nat/README.md\n",
      "Example missing README.md:  nat\n",
      "remote nat\n",
      "TODO: check if downloaded already\n",
      "TODO: readme\n",
      "/home/jovyan/libpysal/examples/south/README.md\n",
      "Example missing README.md:  south\n",
      "remote south\n",
      "TODO: check if downloaded already\n",
      "TODO: readme\n",
      "/home/jovyan/libpysal/examples/rio/README.md\n",
      "remote rio\n",
      "TODO: readme\n",
      "/home/jovyan/libpysal/examples/mexico/README.md\n",
      "README.md is broken:  /home/jovyan/libpysal/examples/mexico/README.md\n",
      "local mexico\n",
      "TODO: readme\n",
      "/home/jovyan/libpysal/examples/baltim/README.md\n",
      "local baltimore\n"
     ]
    }
   ],
   "source": [
    "for key in examples:\n",
    "    example = Example(key, examples[key])\n",
    "    if 'url' in examples[key]:\n",
    "        print('remote', key)\n",
    "        o = urllib.parse.urlparse(examples[key]['url'])\n",
    "        # check if example has already been downloaded\n",
    "        \n",
    "        # if not warn that it will be downloaded\n",
    "    else:\n",
    "        print('local', key)\n",
    "       \n",
    "        \n",
    "    "
   ]
  },
  {
   "cell_type": "code",
   "execution_count": 75,
   "metadata": {},
   "outputs": [
    {
     "data": {
      "text/plain": [
       "'\\n* baltim.dbf: attribute data. (k=17)\\n* baltim.shp: Point shapefile. (n=211)\\n* baltim.shx: spatial index.\\n* baltim.tri.k12.kwt: kernel weights using a triangular kernel with 12 nearest neighbors in KWT format.\\n* baltim_k4.gwt: nearest neighbor weights (4nn) in GWT format.\\n* baltim_q.gal: queen contiguity weights in GAL format.\\n* baltimore.geojson: spatial weights in geojson format.\\n\\n'"
      ]
     },
     "execution_count": 75,
     "metadata": {},
     "output_type": "execute_result"
    }
   ],
   "source": [
    "example.file_contents"
   ]
  },
  {
   "cell_type": "code",
   "execution_count": 76,
   "metadata": {},
   "outputs": [],
   "source": [
    "fc = example.file_contents"
   ]
  },
  {
   "cell_type": "code",
   "execution_count": 77,
   "metadata": {},
   "outputs": [
    {
     "data": {
      "text/plain": [
       "['',\n",
       " ' baltim.dbf: attribute data. (k=17)',\n",
       " ' baltim.shp: Point shapefile. (n=211)',\n",
       " ' baltim.shx: spatial index.',\n",
       " ' baltim.tri.k12.kwt: kernel weights using a triangular kernel with 12 nearest neighbors in KWT format.',\n",
       " ' baltim_k4.gwt: nearest neighbor weights (4nn) in GWT format.',\n",
       " ' baltim_q.gal: queen contiguity weights in GAL format.',\n",
       " ' baltimore.geojson: spatial weights in geojson format.\\n\\n']"
      ]
     },
     "execution_count": 77,
     "metadata": {},
     "output_type": "execute_result"
    }
   ],
   "source": [
    "fc.split(\"\\n*\")"
   ]
  },
  {
   "cell_type": "code",
   "execution_count": 81,
   "metadata": {},
   "outputs": [
    {
     "name": "stdout",
     "output_type": "stream",
     "text": [
      "* baltim.dbf: attribute data. (k=17)\n",
      "* baltim.dbf  attribute data. (k=17)\n",
      "* baltim.shp: Point shapefile. (n=211)\n",
      "* baltim.shp  Point shapefile. (n=211)\n",
      "* baltim.shx: spatial index.\n",
      "* baltim.shx  spatial index.\n",
      "* baltim.tri.k12.kwt: kernel weights using a triangular kernel with 12 nearest neighbors in KWT format.\n",
      "* baltim.tri.k12.kwt  kernel weights using a triangular kernel with 12 nearest neighbors in KWT format.\n",
      "* baltim_k4.gwt: nearest neighbor weights (4nn) in GWT format.\n",
      "* baltim_k4.gwt  nearest neighbor weights (4nn) in GWT format.\n",
      "* baltim_q.gal: queen contiguity weights in GAL format.\n",
      "* baltim_q.gal  queen contiguity weights in GAL format.\n",
      "* baltimore.geojson: spatial weights in geojson format.\n",
      "* baltimore.geojson  spatial weights in geojson format.\n",
      "\n",
      "\n"
     ]
    }
   ],
   "source": [
    "for line in fc.split(\"\\n\")[1:]:\n",
    "    line = line.strip()\n",
    "    print(line)\n",
    "    if \"*\" in line:\n",
    "        name, desc = line.split(\":\")\n",
    "        print(name, desc)"
   ]
  },
  {
   "cell_type": "code",
   "execution_count": 56,
   "metadata": {},
   "outputs": [],
   "source": [
    "c = example.contents"
   ]
  },
  {
   "cell_type": "code",
   "execution_count": 57,
   "metadata": {},
   "outputs": [
    {
     "data": {
      "text/plain": [
       "'# baltim\\n\\nBaltimore house sales prices and hedonics 1978\\n\\n## Files\\n\\n* baltim.dbf: attribute data. (k=17)\\n* baltim.shp: Point shapefile. (n=211)\\n* baltim.shx: spatial index.\\n* baltim.tri.k12.kwt: kernel weights using a triangular kernel with 12 nearest neighbors in KWT format.\\n* baltim_k4.gwt: nearest neighbor weights (4nn) in GWT format.\\n* baltim_q.gal: queen contiguity weights in GAL format.\\n* baltimore.geojson: spatial weights in geojson format.\\n\\n\\n## Reference\\n\\n\\n\\n'"
      ]
     },
     "execution_count": 57,
     "metadata": {},
     "output_type": "execute_result"
    }
   ],
   "source": [
    "c"
   ]
  },
  {
   "cell_type": "code",
   "execution_count": 61,
   "metadata": {},
   "outputs": [
    {
     "data": {
      "text/plain": [
       "454"
      ]
     },
     "execution_count": 61,
     "metadata": {},
     "output_type": "execute_result"
    }
   ],
   "source": [
    "lines = c.split(\"\\n\")\n",
    "c.index(\"## Files\")\n",
    "c.index(\"## Reference\")"
   ]
  },
  {
   "cell_type": "code",
   "execution_count": 59,
   "metadata": {},
   "outputs": [
    {
     "data": {
      "text/plain": [
       "['# baltim',\n",
       " '',\n",
       " 'Baltimore house sales prices and hedonics 1978',\n",
       " '',\n",
       " '## Files',\n",
       " '',\n",
       " '* baltim.dbf: attribute data. (k=17)',\n",
       " '* baltim.shp: Point shapefile. (n=211)',\n",
       " '* baltim.shx: spatial index.',\n",
       " '* baltim.tri.k12.kwt: kernel weights using a triangular kernel with 12 nearest neighbors in KWT format.',\n",
       " '* baltim_k4.gwt: nearest neighbor weights (4nn) in GWT format.',\n",
       " '* baltim_q.gal: queen contiguity weights in GAL format.',\n",
       " '* baltimore.geojson: spatial weights in geojson format.',\n",
       " '',\n",
       " '',\n",
       " '## Reference',\n",
       " '',\n",
       " '',\n",
       " '',\n",
       " '']"
      ]
     },
     "execution_count": 59,
     "metadata": {},
     "output_type": "execute_result"
    }
   ],
   "source": [
    "lines"
   ]
  },
  {
   "cell_type": "code",
   "execution_count": 59,
   "metadata": {},
   "outputs": [
    {
     "data": {
      "text/plain": [
       "'baltim'"
      ]
     },
     "execution_count": 59,
     "metadata": {},
     "output_type": "execute_result"
    }
   ],
   "source": [
    "o.path"
   ]
  },
  {
   "cell_type": "code",
   "execution_count": 66,
   "metadata": {},
   "outputs": [],
   "source": [
    "from os import walk\n",
    "\n",
    "f = []\n",
    "dirs = []\n",
    "for (dirpath, dirnames, filenames) in walk('libpysal/examples'):\n",
    "    f.extend(filenames)\n",
    "    dirs.extend(dirnames)\n",
    "    break"
   ]
  },
  {
   "cell_type": "code",
   "execution_count": 67,
   "metadata": {},
   "outputs": [
    {
     "data": {
      "text/plain": [
       "['stl',\n",
       " 'wmat',\n",
       " 'book',\n",
       " 'chicago',\n",
       " 'Polygon',\n",
       " 'newHaven',\n",
       " 'juvenile',\n",
       " 'burkitt',\n",
       " 'georgia',\n",
       " 'berlin',\n",
       " 'mexico',\n",
       " 'networks',\n",
       " 'sids2',\n",
       " 'baltim',\n",
       " 'Polygon_Holes',\n",
       " 'geodanet',\n",
       " 'arcgis',\n",
       " 'Point',\n",
       " 'Line',\n",
       " 'clearwater',\n",
       " '10740',\n",
       " 'calemp',\n",
       " 'street_net_pts',\n",
       " 'snow_maps',\n",
       " 'us_income',\n",
       " '__pycache__',\n",
       " 'columbus',\n",
       " 'tests',\n",
       " 'tokyo',\n",
       " 'desmith',\n",
       " 'virginia']"
      ]
     },
     "execution_count": 67,
     "metadata": {},
     "output_type": "execute_result"
    }
   ],
   "source": [
    "dirs"
   ]
  },
  {
   "cell_type": "code",
   "execution_count": 68,
   "metadata": {},
   "outputs": [
    {
     "name": "stdout",
     "output_type": "stream",
     "text": [
      "stl\n",
      "wmat\n",
      "book\n",
      "chicago\n",
      "Polygon\n",
      "newHaven\n",
      "juvenile\n",
      "burkitt\n",
      "georgia\n",
      "berlin\n",
      "mexico\n",
      "networks\n",
      "sids2\n",
      "baltim\n",
      "Polygon_Holes\n",
      "geodanet\n",
      "arcgis\n",
      "Point\n",
      "Line\n",
      "clearwater\n",
      "10740\n",
      "calemp\n",
      "street_net_pts\n",
      "snow_maps\n",
      "us_income\n",
      "__pycache__\n",
      "columbus\n",
      "tests\n",
      "tokyo\n",
      "desmith\n",
      "virginia\n"
     ]
    }
   ],
   "source": [
    "for dir in dirs:\n",
    "    print(dir)"
   ]
  },
  {
   "cell_type": "code",
   "execution_count": 69,
   "metadata": {},
   "outputs": [
    {
     "name": "stdout",
     "output_type": "stream",
     "text": [
      "README.md  stl_hom.csv\tstl_hom.html\t  stl_hom.shp  stl_hom.txt\n",
      "stl.gal    stl_hom.dbf\tstl_hom_rook.gal  stl_hom.shx  stl_hom.wkt\n"
     ]
    }
   ],
   "source": [
    "!ls libpysal/examples/stl/\n"
   ]
  },
  {
   "cell_type": "code",
   "execution_count": null,
   "metadata": {},
   "outputs": [],
   "source": []
  }
 ],
 "metadata": {
  "kernelspec": {
   "display_name": "Python 3",
   "language": "python",
   "name": "python3"
  },
  "language_info": {
   "codemirror_mode": {
    "name": "ipython",
    "version": 3
   },
   "file_extension": ".py",
   "mimetype": "text/x-python",
   "name": "python",
   "nbconvert_exporter": "python",
   "pygments_lexer": "ipython3",
   "version": "3.7.3"
  }
 },
 "nbformat": 4,
 "nbformat_minor": 2
}
